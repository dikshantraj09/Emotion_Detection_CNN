{
  "nbformat": 4,
  "nbformat_minor": 0,
  "metadata": {
    "colab": {
      "name": "DeepLearning.ipynb",
      "provenance": [],
      "collapsed_sections": [],
      "mount_file_id": "1auNf7iBNsM0GJQfeoookUL533q7KSCT4",
      "authorship_tag": "ABX9TyMnfM7CH+ayt6Md+igFJL4u",
      "include_colab_link": true
    },
    "kernelspec": {
      "name": "python3",
      "display_name": "Python 3"
    },
    "accelerator": "GPU"
  },
  "cells": [
    {
      "cell_type": "markdown",
      "metadata": {
        "id": "view-in-github",
        "colab_type": "text"
      },
      "source": [
        "<a href=\"https://colab.research.google.com/github/dikshantraj09/Emotion_Detection_CNN/blob/main/DeepLearning.ipynb\" target=\"_parent\"><img src=\"https://colab.research.google.com/assets/colab-badge.svg\" alt=\"Open In Colab\"/></a>"
      ]
    },
    {
      "cell_type": "code",
      "metadata": {
        "id": "EwePrNO1Lbq6",
        "colab": {
          "base_uri": "https://localhost:8080/"
        },
        "outputId": "52c30824-5fc8-41e9-a120-8b7376379f4a"
      },
      "source": [
        "import pandas as pd \r\n",
        "import numpy as np\r\n",
        "import matplotlib.pyplot as plt\r\n",
        "import matplotlib.cm as cm\r\n",
        "import seaborn as sns\r\n",
        "from sklearn.model_selection import train_test_split\r\n",
        "from sklearn.metrics import confusion_matrix\r\n",
        "from keras.models import Sequential, load_model\r\n",
        "from keras.layers import Conv2D, MaxPooling2D, Dense, Activation, Dropout, Flatten, BatchNormalization\r\n",
        "from keras.optimizers import Adam\r\n",
        "from keras.initializers import  RandomNormal\r\n",
        "from keras.callbacks import ModelCheckpoint, TensorBoard\r\n",
        "from keras.preprocessing.image import ImageDataGenerator\r\n",
        "import tensorflow as tf\r\n",
        "%matplotlib inline\r\n",
        "\r\n",
        "# Checking if GPU is available\r\n",
        "\r\n",
        "tf.test.gpu_device_name()\r\n",
        "tf.test.is_gpu_available(cuda_only=False)"
      ],
      "execution_count": 7,
      "outputs": [
        {
          "output_type": "stream",
          "text": [
            "WARNING:tensorflow:From <ipython-input-7-107bfd51b27b>:19: is_gpu_available (from tensorflow.python.framework.test_util) is deprecated and will be removed in a future version.\n",
            "Instructions for updating:\n",
            "Use `tf.config.list_physical_devices('GPU')` instead.\n"
          ],
          "name": "stdout"
        },
        {
          "output_type": "execute_result",
          "data": {
            "text/plain": [
              "True"
            ]
          },
          "metadata": {
            "tags": []
          },
          "execution_count": 7
        }
      ]
    },
    {
      "cell_type": "code",
      "metadata": {
        "id": "ZJzu1DMALgZJ",
        "colab": {
          "base_uri": "https://localhost:8080/"
        },
        "outputId": "8abccb6b-9e36-4dd2-f8e6-361e5dedf59d"
      },
      "source": [
        "data = pd.read_csv('/content/drive/MyDrive/Emotion_Detection/fer2013.csv')\r\n",
        "print(data)\r\n",
        "\r\n",
        "emotions_names = {0: 'Angry', 1: 'Disgust', 2: 'Fear', 3: 'Happy', 4: 'Sad', 5: 'Surprise', 6: 'Neutral'}\r\n",
        "data['emotion_name'] = data['emotion'].map(emotions_names)\r\n",
        "\r\n",
        "pixels_values = data.pixels.str.split(\" \").tolist()\r\n",
        "pixels_values = pd.DataFrame(pixels_values, dtype=int)\r\n",
        "images = pixels_values.values\r\n",
        "images = images.astype(np.float)\r\n",
        "\r\n",
        "test_idx_start = 32298\r\n",
        "images_test = images[test_idx_start:]"
      ],
      "execution_count": 9,
      "outputs": [
        {
          "output_type": "stream",
          "text": [
            "       emotion                                             pixels        Usage\n",
            "0            0  70 80 82 72 58 58 60 63 54 58 60 48 89 115 121...     Training\n",
            "1            0  151 150 147 155 148 133 111 140 170 174 182 15...     Training\n",
            "2            2  231 212 156 164 174 138 161 173 182 200 106 38...     Training\n",
            "3            4  24 32 36 30 32 23 19 20 30 41 21 22 32 34 21 1...     Training\n",
            "4            6  4 0 0 0 0 0 0 0 0 0 0 0 3 15 23 28 48 50 58 84...     Training\n",
            "...        ...                                                ...          ...\n",
            "35882        6  50 36 17 22 23 29 33 39 34 37 37 37 39 43 48 5...  PrivateTest\n",
            "35883        3  178 174 172 173 181 188 191 194 196 199 200 20...  PrivateTest\n",
            "35884        0  17 17 16 23 28 22 19 17 25 26 20 24 31 19 27 9...  PrivateTest\n",
            "35885        3  30 28 28 29 31 30 42 68 79 81 77 67 67 71 63 6...  PrivateTest\n",
            "35886        2  19 13 14 12 13 16 21 33 50 57 71 84 97 108 122...  PrivateTest\n",
            "\n",
            "[35887 rows x 3 columns]\n"
          ],
          "name": "stdout"
        }
      ]
    },
    {
      "cell_type": "code",
      "metadata": {
        "id": "UyTWrBpFY1h5"
      },
      "source": [
        "each_pixel_mean = images.mean(axis=0)\r\n",
        "each_pixel_std = np.std(images, axis=0)\r\n",
        "images = np.divide(np.subtract(images,each_pixel_mean), each_pixel_std)\r\n",
        "\r\n",
        "\r\n",
        "image_pixels = images.shape[1]\r\n",
        "image_width = image_height = np.ceil(np.sqrt(image_pixels)).astype(np.uint8)\r\n",
        "labels_flat = data[\"emotion\"].values.ravel()\r\n",
        "labels_count = np.unique(labels_flat).shape[0]\r\n",
        "\r\n",
        "\r\n",
        "# Function for creating zero/ones matrix indicating image label\r\n",
        "def dense_to_one_hot(labels_dense, num_classes):\r\n",
        "    num_labels = labels_dense.shape[0]\r\n",
        "    index_offset = np.arange(num_labels) * num_classes\r\n",
        "    labels_one_hot = np.zeros((num_labels, num_classes))\r\n",
        "    labels_one_hot.flat[[index_offset + labels_dense.ravel()]] = 1\r\n",
        "    return labels_one_hot\r\n",
        "\r\n",
        "\r\n",
        "labels = dense_to_one_hot(labels_flat, labels_count)\r\n",
        "labels = labels.astype(np.uint8)\r\n"
      ],
      "execution_count": 10,
      "outputs": []
    },
    {
      "cell_type": "code",
      "metadata": {
        "id": "Ab8J5y76ubZY"
      },
      "source": [
        "images = images.reshape(images.shape[0], 48, 48, 1)\r\n",
        "images = images.astype('float32')\r\n",
        "\r\n",
        "# Splitting images and labels into training, validation and testing sets\r\n",
        "X_train, X_test, y_train, y_test = train_test_split(images, labels, test_size=0.1, shuffle = False)\r\n",
        "X_train, X_val, y_train, y_val = train_test_split(X_train, y_train, test_size=0.1, shuffle = False)"
      ],
      "execution_count": 11,
      "outputs": []
    },
    {
      "cell_type": "code",
      "metadata": {
        "id": "800wsL3dueHZ"
      },
      "source": [
        "\r\n",
        "# Constructing CNN structure\r\n",
        "model = Sequential()\r\n",
        "\r\n",
        "# 1st convolution layer\r\n",
        "model.add(Conv2D(64, (3, 3), activation='relu', padding = 'same', input_shape=(48,48,1), bias_initializer=RandomNormal(stddev=1), kernel_initializer=RandomNormal(stddev=1)))\r\n",
        "model.add(Conv2D(64, (3, 3), activation='relu', padding = 'same', input_shape=(48,48,1), bias_initializer=RandomNormal(stddev=1), kernel_initializer=RandomNormal(stddev=1)))\r\n",
        "model.add(BatchNormalization())\r\n",
        "model.add(MaxPooling2D(pool_size=(3,3), strides=(2, 2)))\r\n",
        "model.add(Dropout(0.25))\r\n",
        "\r\n",
        "# 3rd convolution layer\r\n",
        "model.add(Conv2D(64, (3, 3), activation='relu', padding = 'same', bias_initializer=RandomNormal(stddev=1), kernel_initializer=RandomNormal(stddev=1)))\r\n",
        "model.add(Conv2D(64, (3, 3), activation='relu', padding = 'same', bias_initializer=RandomNormal(stddev=1), kernel_initializer=RandomNormal(stddev=1)))\r\n",
        "model.add(BatchNormalization())\r\n",
        "model.add(MaxPooling2D(pool_size=(3,3), strides=(2, 2)))\r\n",
        "model.add(Dropout(0.25))\r\n",
        "          \r\n",
        "# 5th convolution layer\r\n",
        "model.add(Conv2D(128, (3, 3), activation='relu', padding = 'same', bias_initializer=RandomNormal(stddev=1), kernel_initializer=RandomNormal(stddev=1)))\r\n",
        "model.add(Conv2D(128, (3, 3), activation='relu', padding = 'same', bias_initializer=RandomNormal(stddev=1), kernel_initializer=RandomNormal(stddev=1)))\r\n",
        "model.add(BatchNormalization())\r\n",
        "model.add(MaxPooling2D(pool_size=(3,3), strides=(2, 2)))\r\n",
        "model.add(Dropout(0.25))\r\n",
        "\r\n",
        "# 7th convolution layer\r\n",
        "model.add(Conv2D(256, (3, 3), activation='relu', padding = 'same', bias_initializer=RandomNormal(stddev=1), kernel_initializer=RandomNormal(stddev=1)))\r\n",
        "model.add(Conv2D(256, (3, 3), activation='relu', padding = 'same', bias_initializer=RandomNormal(stddev=1), kernel_initializer=RandomNormal(stddev=1)))\r\n",
        "model.add(BatchNormalization())\r\n",
        "model.add(MaxPooling2D(pool_size=(3,3), strides=(2, 2)))\r\n",
        "model.add(Dropout(0.5))\r\n",
        "\r\n",
        "\r\n",
        "model.add(Flatten())\r\n",
        "# Fully connected layers\r\n",
        "model.add(Dense(2048, activation='relu'))\r\n",
        "model.add(Dropout(0.5))\r\n",
        "model.add(Dense(labels_count, activation='softmax'))"
      ],
      "execution_count": 12,
      "outputs": []
    },
    {
      "cell_type": "code",
      "metadata": {
        "colab": {
          "base_uri": "https://localhost:8080/"
        },
        "id": "mh9LvKl6ujtP",
        "outputId": "49ce0770-b9ea-40de-ae71-e37e89ebbfb0"
      },
      "source": [
        "\r\n",
        "model.summary()"
      ],
      "execution_count": 13,
      "outputs": [
        {
          "output_type": "stream",
          "text": [
            "Model: \"sequential\"\n",
            "_________________________________________________________________\n",
            "Layer (type)                 Output Shape              Param #   \n",
            "=================================================================\n",
            "conv2d (Conv2D)              (None, 48, 48, 64)        640       \n",
            "_________________________________________________________________\n",
            "conv2d_1 (Conv2D)            (None, 48, 48, 64)        36928     \n",
            "_________________________________________________________________\n",
            "batch_normalization (BatchNo (None, 48, 48, 64)        256       \n",
            "_________________________________________________________________\n",
            "max_pooling2d (MaxPooling2D) (None, 23, 23, 64)        0         \n",
            "_________________________________________________________________\n",
            "dropout (Dropout)            (None, 23, 23, 64)        0         \n",
            "_________________________________________________________________\n",
            "conv2d_2 (Conv2D)            (None, 23, 23, 64)        36928     \n",
            "_________________________________________________________________\n",
            "conv2d_3 (Conv2D)            (None, 23, 23, 64)        36928     \n",
            "_________________________________________________________________\n",
            "batch_normalization_1 (Batch (None, 23, 23, 64)        256       \n",
            "_________________________________________________________________\n",
            "max_pooling2d_1 (MaxPooling2 (None, 11, 11, 64)        0         \n",
            "_________________________________________________________________\n",
            "dropout_1 (Dropout)          (None, 11, 11, 64)        0         \n",
            "_________________________________________________________________\n",
            "conv2d_4 (Conv2D)            (None, 11, 11, 128)       73856     \n",
            "_________________________________________________________________\n",
            "conv2d_5 (Conv2D)            (None, 11, 11, 128)       147584    \n",
            "_________________________________________________________________\n",
            "batch_normalization_2 (Batch (None, 11, 11, 128)       512       \n",
            "_________________________________________________________________\n",
            "max_pooling2d_2 (MaxPooling2 (None, 5, 5, 128)         0         \n",
            "_________________________________________________________________\n",
            "dropout_2 (Dropout)          (None, 5, 5, 128)         0         \n",
            "_________________________________________________________________\n",
            "conv2d_6 (Conv2D)            (None, 5, 5, 256)         295168    \n",
            "_________________________________________________________________\n",
            "conv2d_7 (Conv2D)            (None, 5, 5, 256)         590080    \n",
            "_________________________________________________________________\n",
            "batch_normalization_3 (Batch (None, 5, 5, 256)         1024      \n",
            "_________________________________________________________________\n",
            "max_pooling2d_3 (MaxPooling2 (None, 2, 2, 256)         0         \n",
            "_________________________________________________________________\n",
            "dropout_3 (Dropout)          (None, 2, 2, 256)         0         \n",
            "_________________________________________________________________\n",
            "flatten (Flatten)            (None, 1024)              0         \n",
            "_________________________________________________________________\n",
            "dense (Dense)                (None, 2048)              2099200   \n",
            "_________________________________________________________________\n",
            "dropout_4 (Dropout)          (None, 2048)              0         \n",
            "_________________________________________________________________\n",
            "dense_1 (Dense)              (None, 7)                 14343     \n",
            "=================================================================\n",
            "Total params: 3,333,703\n",
            "Trainable params: 3,332,679\n",
            "Non-trainable params: 1,024\n",
            "_________________________________________________________________\n"
          ],
          "name": "stdout"
        }
      ]
    },
    {
      "cell_type": "code",
      "metadata": {
        "id": "4GKRKptEup1V"
      },
      "source": [
        "model.compile(loss='categorical_crossentropy', optimizer='Adam', metrics=['accuracy'])"
      ],
      "execution_count": 29,
      "outputs": []
    },
    {
      "cell_type": "code",
      "metadata": {
        "colab": {
          "base_uri": "https://localhost:8080/"
        },
        "id": "IZrGH9EVvI-5",
        "outputId": "f37a7536-7db2-4049-8812-ec9f7e4d4ea9"
      },
      "source": [
        "model.fit(X_train,y_train,batch_size=64, epochs=100, validation_data=(X_val,y_val))"
      ],
      "execution_count": 30,
      "outputs": [
        {
          "output_type": "stream",
          "text": [
            "Epoch 1/100\n",
            "455/455 [==============================] - 13s 27ms/step - loss: 3.1540 - accuracy: 0.2121 - val_loss: 2.0057 - val_accuracy: 0.2331\n",
            "Epoch 2/100\n",
            "455/455 [==============================] - 12s 26ms/step - loss: 1.8110 - accuracy: 0.2515 - val_loss: 2.2378 - val_accuracy: 0.2446\n",
            "Epoch 3/100\n",
            "455/455 [==============================] - 12s 27ms/step - loss: 1.7660 - accuracy: 0.2782 - val_loss: 1.9615 - val_accuracy: 0.3003\n",
            "Epoch 4/100\n",
            "455/455 [==============================] - 12s 26ms/step - loss: 1.7090 - accuracy: 0.3048 - val_loss: 2.0331 - val_accuracy: 0.3303\n",
            "Epoch 5/100\n",
            "455/455 [==============================] - 12s 26ms/step - loss: 1.6513 - accuracy: 0.3439 - val_loss: 1.6571 - val_accuracy: 0.3827\n",
            "Epoch 6/100\n",
            "455/455 [==============================] - 12s 27ms/step - loss: 1.6159 - accuracy: 0.3556 - val_loss: 1.8011 - val_accuracy: 0.3957\n",
            "Epoch 7/100\n",
            "455/455 [==============================] - 12s 27ms/step - loss: 1.5684 - accuracy: 0.3805 - val_loss: 1.7630 - val_accuracy: 0.4015\n",
            "Epoch 8/100\n",
            "455/455 [==============================] - 12s 27ms/step - loss: 1.5410 - accuracy: 0.3929 - val_loss: 1.8076 - val_accuracy: 0.4207\n",
            "Epoch 9/100\n",
            "455/455 [==============================] - 12s 27ms/step - loss: 1.5225 - accuracy: 0.4024 - val_loss: 1.5426 - val_accuracy: 0.4440\n",
            "Epoch 10/100\n",
            "455/455 [==============================] - 12s 27ms/step - loss: 1.4777 - accuracy: 0.4253 - val_loss: 1.5680 - val_accuracy: 0.4415\n",
            "Epoch 11/100\n",
            "455/455 [==============================] - 12s 27ms/step - loss: 1.4713 - accuracy: 0.4240 - val_loss: 1.5990 - val_accuracy: 0.4563\n",
            "Epoch 12/100\n",
            "455/455 [==============================] - 12s 27ms/step - loss: 1.4455 - accuracy: 0.4351 - val_loss: 1.7068 - val_accuracy: 0.4604\n",
            "Epoch 13/100\n",
            "455/455 [==============================] - 12s 27ms/step - loss: 1.4108 - accuracy: 0.4454 - val_loss: 1.6145 - val_accuracy: 0.4632\n",
            "Epoch 14/100\n",
            "455/455 [==============================] - 12s 27ms/step - loss: 1.3933 - accuracy: 0.4549 - val_loss: 1.5060 - val_accuracy: 0.4703\n",
            "Epoch 15/100\n",
            "455/455 [==============================] - 12s 27ms/step - loss: 1.3831 - accuracy: 0.4632 - val_loss: 1.4576 - val_accuracy: 0.4882\n",
            "Epoch 16/100\n",
            "455/455 [==============================] - 12s 27ms/step - loss: 1.3688 - accuracy: 0.4721 - val_loss: 1.3882 - val_accuracy: 0.4966\n",
            "Epoch 17/100\n",
            "455/455 [==============================] - 12s 27ms/step - loss: 1.3401 - accuracy: 0.4782 - val_loss: 1.3510 - val_accuracy: 0.5037\n",
            "Epoch 18/100\n",
            "455/455 [==============================] - 13s 28ms/step - loss: 1.3260 - accuracy: 0.4853 - val_loss: 1.3405 - val_accuracy: 0.5108\n",
            "Epoch 19/100\n",
            "455/455 [==============================] - 13s 28ms/step - loss: 1.3078 - accuracy: 0.4972 - val_loss: 1.3281 - val_accuracy: 0.5130\n",
            "Epoch 20/100\n",
            "455/455 [==============================] - 13s 28ms/step - loss: 1.3024 - accuracy: 0.5005 - val_loss: 1.3036 - val_accuracy: 0.5229\n",
            "Epoch 21/100\n",
            "455/455 [==============================] - 13s 28ms/step - loss: 1.2871 - accuracy: 0.5052 - val_loss: 1.2924 - val_accuracy: 0.5266\n",
            "Epoch 22/100\n",
            "455/455 [==============================] - 13s 27ms/step - loss: 1.2713 - accuracy: 0.5110 - val_loss: 1.2894 - val_accuracy: 0.5217\n",
            "Epoch 23/100\n",
            "455/455 [==============================] - 12s 27ms/step - loss: 1.2651 - accuracy: 0.5175 - val_loss: 1.4360 - val_accuracy: 0.5204\n",
            "Epoch 24/100\n",
            "455/455 [==============================] - 13s 28ms/step - loss: 1.2548 - accuracy: 0.5209 - val_loss: 1.3351 - val_accuracy: 0.5372\n",
            "Epoch 25/100\n",
            "455/455 [==============================] - 13s 28ms/step - loss: 1.2186 - accuracy: 0.5323 - val_loss: 1.4481 - val_accuracy: 0.5229\n",
            "Epoch 26/100\n",
            "455/455 [==============================] - 13s 28ms/step - loss: 1.2276 - accuracy: 0.5315 - val_loss: 1.2752 - val_accuracy: 0.5449\n",
            "Epoch 27/100\n",
            "455/455 [==============================] - 13s 28ms/step - loss: 1.2248 - accuracy: 0.5317 - val_loss: 1.2945 - val_accuracy: 0.5384\n",
            "Epoch 28/100\n",
            "455/455 [==============================] - 13s 28ms/step - loss: 1.1928 - accuracy: 0.5417 - val_loss: 1.2235 - val_accuracy: 0.5567\n",
            "Epoch 29/100\n",
            "455/455 [==============================] - 13s 28ms/step - loss: 1.1785 - accuracy: 0.5551 - val_loss: 1.2915 - val_accuracy: 0.5498\n",
            "Epoch 30/100\n",
            "455/455 [==============================] - 13s 28ms/step - loss: 1.1739 - accuracy: 0.5543 - val_loss: 1.2389 - val_accuracy: 0.5560\n",
            "Epoch 31/100\n",
            "455/455 [==============================] - 13s 28ms/step - loss: 1.1672 - accuracy: 0.5570 - val_loss: 1.2656 - val_accuracy: 0.5412\n",
            "Epoch 32/100\n",
            "455/455 [==============================] - 13s 28ms/step - loss: 1.1507 - accuracy: 0.5585 - val_loss: 1.2587 - val_accuracy: 0.5545\n",
            "Epoch 33/100\n",
            "455/455 [==============================] - 13s 28ms/step - loss: 1.1416 - accuracy: 0.5648 - val_loss: 1.2172 - val_accuracy: 0.5545\n",
            "Epoch 34/100\n",
            "455/455 [==============================] - 13s 28ms/step - loss: 1.1254 - accuracy: 0.5718 - val_loss: 1.2746 - val_accuracy: 0.5588\n",
            "Epoch 35/100\n",
            "455/455 [==============================] - 13s 28ms/step - loss: 1.1169 - accuracy: 0.5738 - val_loss: 1.2809 - val_accuracy: 0.5703\n",
            "Epoch 36/100\n",
            "455/455 [==============================] - 13s 28ms/step - loss: 1.1009 - accuracy: 0.5836 - val_loss: 1.2134 - val_accuracy: 0.5693\n",
            "Epoch 37/100\n",
            "455/455 [==============================] - 13s 28ms/step - loss: 1.0900 - accuracy: 0.5863 - val_loss: 1.2231 - val_accuracy: 0.5743\n",
            "Epoch 38/100\n",
            "455/455 [==============================] - 13s 28ms/step - loss: 1.0903 - accuracy: 0.5876 - val_loss: 1.3426 - val_accuracy: 0.5672\n",
            "Epoch 39/100\n",
            "455/455 [==============================] - 13s 28ms/step - loss: 1.0753 - accuracy: 0.5908 - val_loss: 1.2475 - val_accuracy: 0.5724\n",
            "Epoch 40/100\n",
            "455/455 [==============================] - 13s 28ms/step - loss: 1.0559 - accuracy: 0.5991 - val_loss: 1.2658 - val_accuracy: 0.5793\n",
            "Epoch 41/100\n",
            "455/455 [==============================] - 13s 28ms/step - loss: 1.0546 - accuracy: 0.6026 - val_loss: 1.2629 - val_accuracy: 0.5805\n",
            "Epoch 42/100\n",
            "455/455 [==============================] - 13s 28ms/step - loss: 1.0511 - accuracy: 0.6006 - val_loss: 1.1966 - val_accuracy: 0.5746\n",
            "Epoch 43/100\n",
            "455/455 [==============================] - 13s 28ms/step - loss: 1.0432 - accuracy: 0.6071 - val_loss: 1.2663 - val_accuracy: 0.5845\n",
            "Epoch 44/100\n",
            "455/455 [==============================] - 13s 28ms/step - loss: 1.0328 - accuracy: 0.6042 - val_loss: 1.2019 - val_accuracy: 0.5817\n",
            "Epoch 45/100\n",
            "455/455 [==============================] - 13s 28ms/step - loss: 1.0286 - accuracy: 0.6125 - val_loss: 1.2207 - val_accuracy: 0.5916\n",
            "Epoch 46/100\n",
            "455/455 [==============================] - 13s 28ms/step - loss: 1.0089 - accuracy: 0.6174 - val_loss: 1.2606 - val_accuracy: 0.5913\n",
            "Epoch 47/100\n",
            "455/455 [==============================] - 13s 28ms/step - loss: 1.0091 - accuracy: 0.6175 - val_loss: 1.2360 - val_accuracy: 0.5910\n",
            "Epoch 48/100\n",
            "455/455 [==============================] - 13s 28ms/step - loss: 0.9913 - accuracy: 0.6233 - val_loss: 1.3171 - val_accuracy: 0.5867\n",
            "Epoch 49/100\n",
            "455/455 [==============================] - 13s 28ms/step - loss: 0.9821 - accuracy: 0.6270 - val_loss: 1.2633 - val_accuracy: 0.5926\n",
            "Epoch 50/100\n",
            "455/455 [==============================] - 13s 28ms/step - loss: 0.9779 - accuracy: 0.6298 - val_loss: 1.1990 - val_accuracy: 0.5898\n",
            "Epoch 51/100\n",
            "455/455 [==============================] - 13s 28ms/step - loss: 0.9653 - accuracy: 0.6330 - val_loss: 1.2364 - val_accuracy: 0.5916\n",
            "Epoch 52/100\n",
            "455/455 [==============================] - 13s 28ms/step - loss: 0.9601 - accuracy: 0.6286 - val_loss: 1.2639 - val_accuracy: 0.5935\n",
            "Epoch 53/100\n",
            "455/455 [==============================] - 13s 28ms/step - loss: 0.9527 - accuracy: 0.6374 - val_loss: 1.2160 - val_accuracy: 0.6031\n",
            "Epoch 54/100\n",
            "455/455 [==============================] - 13s 28ms/step - loss: 0.9430 - accuracy: 0.6423 - val_loss: 1.2219 - val_accuracy: 0.5966\n",
            "Epoch 55/100\n",
            "455/455 [==============================] - 13s 28ms/step - loss: 0.9472 - accuracy: 0.6425 - val_loss: 1.2119 - val_accuracy: 0.6028\n",
            "Epoch 56/100\n",
            "455/455 [==============================] - 13s 28ms/step - loss: 0.9136 - accuracy: 0.6574 - val_loss: 1.2048 - val_accuracy: 0.6059\n",
            "Epoch 57/100\n",
            "455/455 [==============================] - 13s 28ms/step - loss: 0.9304 - accuracy: 0.6512 - val_loss: 1.2330 - val_accuracy: 0.6000\n",
            "Epoch 58/100\n",
            "455/455 [==============================] - 13s 28ms/step - loss: 0.9214 - accuracy: 0.6501 - val_loss: 1.2696 - val_accuracy: 0.6015\n",
            "Epoch 59/100\n",
            "455/455 [==============================] - 13s 28ms/step - loss: 0.9046 - accuracy: 0.6573 - val_loss: 1.2202 - val_accuracy: 0.5938\n",
            "Epoch 60/100\n",
            "455/455 [==============================] - 13s 28ms/step - loss: 0.8999 - accuracy: 0.6578 - val_loss: 1.2018 - val_accuracy: 0.6065\n",
            "Epoch 61/100\n",
            "455/455 [==============================] - 13s 28ms/step - loss: 0.8873 - accuracy: 0.6671 - val_loss: 1.2565 - val_accuracy: 0.6034\n",
            "Epoch 62/100\n",
            "455/455 [==============================] - 13s 28ms/step - loss: 0.8861 - accuracy: 0.6663 - val_loss: 1.3166 - val_accuracy: 0.6090\n",
            "Epoch 63/100\n",
            "455/455 [==============================] - 13s 28ms/step - loss: 0.8787 - accuracy: 0.6660 - val_loss: 1.2255 - val_accuracy: 0.6053\n",
            "Epoch 64/100\n",
            "455/455 [==============================] - 13s 28ms/step - loss: 0.8689 - accuracy: 0.6679 - val_loss: 1.2146 - val_accuracy: 0.6077\n",
            "Epoch 65/100\n",
            "455/455 [==============================] - 13s 28ms/step - loss: 0.8738 - accuracy: 0.6692 - val_loss: 1.2364 - val_accuracy: 0.6124\n",
            "Epoch 66/100\n",
            "455/455 [==============================] - 13s 28ms/step - loss: 0.8523 - accuracy: 0.6737 - val_loss: 1.2743 - val_accuracy: 0.6080\n",
            "Epoch 67/100\n",
            "455/455 [==============================] - 13s 28ms/step - loss: 0.8412 - accuracy: 0.6789 - val_loss: 1.3109 - val_accuracy: 0.6158\n",
            "Epoch 68/100\n",
            "455/455 [==============================] - 13s 28ms/step - loss: 0.8398 - accuracy: 0.6820 - val_loss: 1.2570 - val_accuracy: 0.6121\n",
            "Epoch 69/100\n",
            "455/455 [==============================] - 13s 28ms/step - loss: 0.8338 - accuracy: 0.6911 - val_loss: 1.2590 - val_accuracy: 0.6127\n",
            "Epoch 70/100\n",
            "455/455 [==============================] - 13s 28ms/step - loss: 0.8287 - accuracy: 0.6871 - val_loss: 1.2915 - val_accuracy: 0.6133\n",
            "Epoch 71/100\n",
            "455/455 [==============================] - 13s 28ms/step - loss: 0.8273 - accuracy: 0.6869 - val_loss: 1.2436 - val_accuracy: 0.6170\n",
            "Epoch 72/100\n",
            "455/455 [==============================] - 13s 28ms/step - loss: 0.8083 - accuracy: 0.6934 - val_loss: 1.2397 - val_accuracy: 0.6173\n",
            "Epoch 73/100\n",
            "455/455 [==============================] - 13s 28ms/step - loss: 0.8047 - accuracy: 0.6954 - val_loss: 1.2828 - val_accuracy: 0.6139\n",
            "Epoch 74/100\n",
            "455/455 [==============================] - 13s 28ms/step - loss: 0.8056 - accuracy: 0.6961 - val_loss: 1.3360 - val_accuracy: 0.6136\n",
            "Epoch 75/100\n",
            "455/455 [==============================] - 13s 28ms/step - loss: 0.7880 - accuracy: 0.6988 - val_loss: 1.3085 - val_accuracy: 0.6183\n",
            "Epoch 76/100\n",
            "455/455 [==============================] - 13s 28ms/step - loss: 0.7853 - accuracy: 0.7007 - val_loss: 1.3186 - val_accuracy: 0.6173\n",
            "Epoch 77/100\n",
            "455/455 [==============================] - 13s 28ms/step - loss: 0.7807 - accuracy: 0.7014 - val_loss: 1.2761 - val_accuracy: 0.6207\n",
            "Epoch 78/100\n",
            "455/455 [==============================] - 13s 28ms/step - loss: 0.7619 - accuracy: 0.7115 - val_loss: 1.2995 - val_accuracy: 0.6220\n",
            "Epoch 79/100\n",
            "455/455 [==============================] - 13s 28ms/step - loss: 0.7549 - accuracy: 0.7138 - val_loss: 1.3829 - val_accuracy: 0.6229\n",
            "Epoch 80/100\n",
            "455/455 [==============================] - 13s 28ms/step - loss: 0.7619 - accuracy: 0.7134 - val_loss: 1.3065 - val_accuracy: 0.6223\n",
            "Epoch 81/100\n",
            "455/455 [==============================] - 13s 28ms/step - loss: 0.7525 - accuracy: 0.7135 - val_loss: 1.2537 - val_accuracy: 0.6198\n",
            "Epoch 82/100\n",
            "455/455 [==============================] - 13s 28ms/step - loss: 0.7454 - accuracy: 0.7154 - val_loss: 1.3322 - val_accuracy: 0.6214\n",
            "Epoch 83/100\n",
            "455/455 [==============================] - 13s 28ms/step - loss: 0.7401 - accuracy: 0.7188 - val_loss: 1.3653 - val_accuracy: 0.6155\n",
            "Epoch 84/100\n",
            "455/455 [==============================] - 13s 28ms/step - loss: 0.7287 - accuracy: 0.7240 - val_loss: 1.3435 - val_accuracy: 0.6214\n",
            "Epoch 85/100\n",
            "455/455 [==============================] - 13s 28ms/step - loss: 0.7206 - accuracy: 0.7257 - val_loss: 1.3603 - val_accuracy: 0.6245\n",
            "Epoch 86/100\n",
            "455/455 [==============================] - 13s 28ms/step - loss: 0.7178 - accuracy: 0.7337 - val_loss: 1.3073 - val_accuracy: 0.6220\n",
            "Epoch 87/100\n",
            "455/455 [==============================] - 13s 28ms/step - loss: 0.7155 - accuracy: 0.7277 - val_loss: 1.3367 - val_accuracy: 0.6282\n",
            "Epoch 88/100\n",
            "455/455 [==============================] - 13s 28ms/step - loss: 0.7110 - accuracy: 0.7358 - val_loss: 1.3235 - val_accuracy: 0.6291\n",
            "Epoch 89/100\n",
            "455/455 [==============================] - 13s 28ms/step - loss: 0.6961 - accuracy: 0.7383 - val_loss: 1.2760 - val_accuracy: 0.6254\n",
            "Epoch 90/100\n",
            "455/455 [==============================] - 13s 28ms/step - loss: 0.6952 - accuracy: 0.7346 - val_loss: 1.3138 - val_accuracy: 0.6288\n",
            "Epoch 91/100\n",
            "455/455 [==============================] - 13s 28ms/step - loss: 0.6762 - accuracy: 0.7461 - val_loss: 1.3346 - val_accuracy: 0.6229\n",
            "Epoch 92/100\n",
            "455/455 [==============================] - 13s 28ms/step - loss: 0.6764 - accuracy: 0.7428 - val_loss: 1.4099 - val_accuracy: 0.6245\n",
            "Epoch 93/100\n",
            "455/455 [==============================] - 13s 28ms/step - loss: 0.6748 - accuracy: 0.7441 - val_loss: 1.3332 - val_accuracy: 0.6282\n",
            "Epoch 94/100\n",
            "455/455 [==============================] - 13s 28ms/step - loss: 0.6715 - accuracy: 0.7404 - val_loss: 1.3256 - val_accuracy: 0.6223\n",
            "Epoch 95/100\n",
            "455/455 [==============================] - 13s 28ms/step - loss: 0.6663 - accuracy: 0.7459 - val_loss: 1.4023 - val_accuracy: 0.6269\n",
            "Epoch 96/100\n",
            "455/455 [==============================] - 12s 27ms/step - loss: 0.6476 - accuracy: 0.7534 - val_loss: 1.3650 - val_accuracy: 0.6257\n",
            "Epoch 97/100\n",
            "455/455 [==============================] - 13s 28ms/step - loss: 0.6542 - accuracy: 0.7535 - val_loss: 1.4395 - val_accuracy: 0.6198\n",
            "Epoch 98/100\n",
            "455/455 [==============================] - 13s 28ms/step - loss: 0.6565 - accuracy: 0.7539 - val_loss: 1.3585 - val_accuracy: 0.6294\n",
            "Epoch 99/100\n",
            "455/455 [==============================] - 13s 28ms/step - loss: 0.6407 - accuracy: 0.7566 - val_loss: 1.3450 - val_accuracy: 0.6288\n",
            "Epoch 100/100\n",
            "455/455 [==============================] - 13s 28ms/step - loss: 0.6349 - accuracy: 0.7625 - val_loss: 1.4039 - val_accuracy: 0.6344\n"
          ],
          "name": "stdout"
        },
        {
          "output_type": "execute_result",
          "data": {
            "text/plain": [
              "<tensorflow.python.keras.callbacks.History at 0x7f81842ca3c8>"
            ]
          },
          "metadata": {
            "tags": []
          },
          "execution_count": 30
        }
      ]
    },
    {
      "cell_type": "code",
      "metadata": {
        "colab": {
          "base_uri": "https://localhost:8080/"
        },
        "id": "P9rl3o_fzEGz",
        "outputId": "42d37010-c938-4f9c-9f21-a95fa6d8f4fa"
      },
      "source": [
        "model_json = model.to_json()\r\n",
        "with open(\"model.json\", \"w\") as json_file:\r\n",
        "  json_file.write(model_json)\r\n",
        "model.save_weights(\"/content/drive/MyDrive/Emotion_Detection/model_adam.h5\")\r\n",
        "print(\"Saved model to disk\")"
      ],
      "execution_count": 33,
      "outputs": [
        {
          "output_type": "stream",
          "text": [
            "Saved model to disk\n"
          ],
          "name": "stdout"
        }
      ]
    },
    {
      "cell_type": "code",
      "metadata": {
        "colab": {
          "base_uri": "https://localhost:8080/"
        },
        "id": "5_i51VOM38dr",
        "outputId": "6ace0bd1-2841-4fc5-a60e-9ea6e83c6daa"
      },
      "source": [
        "print(tf.__version__)"
      ],
      "execution_count": 37,
      "outputs": [
        {
          "output_type": "stream",
          "text": [
            "2.4.0\n"
          ],
          "name": "stdout"
        }
      ]
    }
  ]
}